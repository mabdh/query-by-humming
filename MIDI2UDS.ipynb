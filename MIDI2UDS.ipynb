{
 "cells": [
  {
   "cell_type": "code",
   "execution_count": 7,
   "metadata": {
    "collapsed": false
   },
   "outputs": [],
   "source": [
    "import pickle\n",
    "import glob, os\n",
    "import midi\n",
    "from random import randint\n",
    "import difflib\n",
    "from fuzzywuzzy import fuzz\n",
    "from fuzzywuzzy import process"
   ]
  },
  {
   "cell_type": "code",
   "execution_count": 8,
   "metadata": {
    "collapsed": false
   },
   "outputs": [],
   "source": [
    "class NoteEvent:\n",
    "    tickDuration =  0\n",
    "    channel = 0\n",
    "    data = 0\n",
    "    def __init__(self, tickDuration, channel, data):\n",
    "        self.tickDuration = tickDuration\n",
    "        self.channel = channel\n",
    "        self.data = data\n",
    "    def getInfo(self):\n",
    "        return (\"tickDuration: %d, channel = %d, data = %d\"%(self.tickDuration,self.channel,self.data))\n",
    "        \n",
    "def getNoteEvents(pattern):\n",
    "    counter = 0\n",
    "    listOfNoteEvents = []\n",
    "    for track in pattern:\n",
    "        for m in track:\n",
    "            typeM = str(type(m))\n",
    "            if(typeM.find('NoteOnEvent')!=-1):\n",
    "                if(m.data[1]>0):\n",
    "                    currentNote = NoteEvent(m.tick,m.channel,m.data[0])\n",
    "                    listOfNoteEvents.append(currentNote)\n",
    "                else:\n",
    "                    #Assumption: MIDI file is a monophonic and one channel recording\n",
    "                    currentNote = listOfNoteEvents[counter]\n",
    "                    currentNote.tickDuration = m.tick - currentNote.tickDuration\n",
    "                    counter+=1\n",
    "    return listOfNoteEvents\n",
    "\n",
    "def getNoteData(listOfNoteEvents):\n",
    "    listOfNotesData = []\n",
    "    for e in listOfNoteEvents:\n",
    "        listOfNotesData.append(e.data)\n",
    "    return listOfNotesData\n",
    "\n",
    "def getUDS(listOfNoteData):\n",
    "    pointer = 1\n",
    "    listOfUDS = []\n",
    "    uds='s'\n",
    "    while(pointer<len(listOfNoteData)-1):\n",
    "        if(listOfNoteData[pointer]>listOfNoteData[pointer-1]):\n",
    "            uds='u'\n",
    "        elif(listOfNoteData[pointer]<listOfNoteData[pointer-1]):\n",
    "            uds='d'\n",
    "        pointer+=1\n",
    "        listOfUDS.append(uds)\n",
    "    return listOfUDS\n",
    "\n",
    "def pattern2UDS(pattern):\n",
    "    listOfNoteEvents = getNoteEvents(pattern)\n",
    "    listOfNoteData = getNoteData(listOfNoteEvents)\n",
    "    listOfUDS = getUDS(listOfNoteData)\n",
    "    udsString = ''.join(listOfUDS)\n",
    "#    print (','.join(str(e) for e in listOfNoteData))\n",
    "#    print (','.join(listOfUDS))\n",
    "    return udsString"
   ]
  },
  {
   "cell_type": "code",
   "execution_count": 9,
   "metadata": {
    "collapsed": false,
    "scrolled": true
   },
   "outputs": [],
   "source": [
    "if __name__ == \"__main__\":\n",
    "    dataDir = '/Users/muhammadabduh/Documents/Research/query-by-humming/'\n",
    "    os.chdir(dataDir)\n",
    "    midiFiles = glob.glob(\"midiFile/*.mid\")\n",
    "    udsFile = dataDir + 'listOfUDS.pickle'\n",
    "    listOfUDSString = []\n",
    "    for file in midiFiles:\n",
    "        dataFullpath = dataDir + file\n",
    "        pattern = midi.read_midifile(dataFullpath)\n",
    "        udsString= pattern2UDS(pattern)\n",
    "        listOfUDSString.append(udsString)\n",
    "    pickle.dump(listOfUDSString, open( udsFile, \"wb\" ))"
   ]
  },
  {
   "cell_type": "code",
   "execution_count": 10,
   "metadata": {
    "collapsed": false,
    "scrolled": false
   },
   "outputs": [
    {
     "name": "stdout",
     "output_type": "stream",
     "text": [
      "Pointer:  45\n",
      "LenStr:  134\n",
      "StartIdx:  86\n"
     ]
    },
    {
     "ename": "IndexError",
     "evalue": "list index out of range",
     "output_type": "error",
     "traceback": [
      "\u001b[0;31m---------------------------------------------------------------------------\u001b[0m",
      "\u001b[0;31mIndexError\u001b[0m                                Traceback (most recent call last)",
      "\u001b[0;32m<ipython-input-10-fb9db5646cdc>\u001b[0m in \u001b[0;36m<module>\u001b[0;34m()\u001b[0m\n\u001b[1;32m     12\u001b[0m \u001b[0mprint\u001b[0m\u001b[0;34m(\u001b[0m\u001b[0;34m\"LenStr: \"\u001b[0m\u001b[0;34m,\u001b[0m\u001b[0mlenStr\u001b[0m\u001b[0;34m)\u001b[0m\u001b[0;34m\u001b[0m\u001b[0m\n\u001b[1;32m     13\u001b[0m \u001b[0mprint\u001b[0m\u001b[0;34m(\u001b[0m\u001b[0;34m\"StartIdx: \"\u001b[0m\u001b[0;34m,\u001b[0m\u001b[0mstartIdx\u001b[0m\u001b[0;34m)\u001b[0m\u001b[0;34m\u001b[0m\u001b[0m\n\u001b[0;32m---> 14\u001b[0;31m \u001b[0mprint\u001b[0m\u001b[0;34m(\u001b[0m\u001b[0;34m\"OriginalString: \"\u001b[0m\u001b[0;34m,\u001b[0m\u001b[0mlistOfUDSString\u001b[0m\u001b[0;34m[\u001b[0m\u001b[0mpointer\u001b[0m\u001b[0;34m]\u001b[0m\u001b[0;34m)\u001b[0m\u001b[0;34m\u001b[0m\u001b[0m\n\u001b[0m\u001b[1;32m     15\u001b[0m \u001b[0mprint\u001b[0m\u001b[0;34m(\u001b[0m\u001b[0;34m\"Hum: \"\u001b[0m\u001b[0;34m,\u001b[0m\u001b[0mhum\u001b[0m\u001b[0;34m)\u001b[0m\u001b[0;34m\u001b[0m\u001b[0m\n\u001b[1;32m     16\u001b[0m \u001b[0mbestPartialRatio\u001b[0m \u001b[0;34m=\u001b[0m \u001b[0;34m-\u001b[0m\u001b[0;36m1\u001b[0m\u001b[0;34m\u001b[0m\u001b[0m\n",
      "\u001b[0;31mIndexError\u001b[0m: list index out of range"
     ]
    }
   ],
   "source": [
    "minLen = 5\n",
    "pointer = randint(0,len(listOfUDSString)-1)\n",
    "hum = listOfUDSString[pointer]\n",
    "#lenStr = randint(minLen,len(hum))\n",
    "#startIdx = randint(0,len(hum)-lenStr)\n",
    "\n",
    "# pointer = 45\n",
    "lenStr = 134\n",
    "startIdx = 86\n",
    "hum = hum[startIdx:startIdx+lenStr]\n",
    "print(\"Pointer: \",pointer)\n",
    "print(\"LenStr: \",lenStr)\n",
    "print(\"StartIdx: \",startIdx)\n",
    "print(\"OriginalString: \",listOfUDSString[pointer])\n",
    "print(\"Hum: \",hum)\n",
    "bestPartialRatio = -1\n",
    "bestRatio = -1\n",
    "idxMatch = -1\n",
    "counter = 0\n",
    "for uds in listOfUDSString:\n",
    "    print(counter)\n",
    "    partialRatio = fuzz.partial_ratio(hum,uds)\n",
    "    ratio = fuzz.ratio(hum,uds)\n",
    "    if(bestPartialRatio < partialRatio):\n",
    "        bestPartialRatio = partialRatio\n",
    "        bestRatio = ratio\n",
    "        idxMatch = counter\n",
    "    elif((bestPartialRatio == partialRatio) and (bestRatio < ratio)):\n",
    "        bestRatio = ratio\n",
    "        idxMatch = counter\n",
    "    counter+=1    \n",
    "    print(\"FullRatio:\", ratio)\n",
    "    print(\"PartialRatio: \", partialRatio)\n",
    "    print(\"==============\")\n",
    "if(idxMatch>=0):\n",
    "    print(\"IdxMatch: \", idxMatch)\n",
    "    print(\"FullUDS: \", listOfUDSString[idxMatch])\n",
    "process.extract(hum, listOfUDSString, limit=2)\n",
    "#best = difflib.get_close_matches(listOfUDSString[pointer], listOfUDSString)\n",
    "\n",
    "\n",
    "#print (best)"
   ]
  },
  {
   "cell_type": "code",
   "execution_count": 21,
   "metadata": {
    "collapsed": false
   },
   "outputs": [],
   "source": [
    "#print ('\\n\\n'.join(listOfUDSString))"
   ]
  },
  {
   "cell_type": "code",
   "execution_count": null,
   "metadata": {
    "collapsed": true
   },
   "outputs": [],
   "source": []
  }
 ],
 "metadata": {
  "kernelspec": {
   "display_name": "Python 3",
   "language": "python",
   "name": "python3"
  },
  "language_info": {
   "codemirror_mode": {
    "name": "ipython",
    "version": 3
   },
   "file_extension": ".py",
   "mimetype": "text/x-python",
   "name": "python",
   "nbconvert_exporter": "python",
   "pygments_lexer": "ipython3",
   "version": "3.4.4"
  }
 },
 "nbformat": 4,
 "nbformat_minor": 0
}
